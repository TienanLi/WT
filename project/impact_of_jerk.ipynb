{
 "cells": [
  {
   "cell_type": "code",
   "execution_count": 1,
   "id": "6cc30815",
   "metadata": {},
   "outputs": [],
   "source": [
    "import pandas as pd\n",
    "import numpy as np\n",
    "import matplotlib.pyplot as plt\n",
    "import math\n",
    "\n",
    "import os"
   ]
  },
  {
   "cell_type": "code",
   "execution_count": 2,
   "id": "94efe97a",
   "metadata": {},
   "outputs": [],
   "source": [
    "all_synthetic_trj = pd.read_csv('data_save/all_synthetic_trj.csv', header=0)\n",
    "traj_info = pd.read_csv('data_save/all_state_change_point_record.csv', header=0)\n",
    "results = pd.read_csv('data_save/scale_sensitivity_analysis_results.csv', header = 0)"
   ]
  },
  {
   "cell_type": "code",
   "execution_count": 3,
   "id": "a1a834c0",
   "metadata": {},
   "outputs": [],
   "source": [
    "def impacts_of_jerk_plot(all_mae, state_change_label, a_tar, jerk_array):\n",
    "    \n",
    "    folder_path = \"figure_save_jerk/\"\n",
    "    \n",
    "    if os.path.isdir(folder_path) == False:\n",
    "        os.makedirs(folder_path)\n",
    "    \n",
    "    for i in [0, 2, 3, 4]:\n",
    "    #for i in [3]:\n",
    "    \n",
    "        data = all_mae[i]\n",
    "        \n",
    "        state = state_change_label[i]\n",
    "        title = 'state_'+state+'_acc_tar_'+str(a_tar)\n",
    "        plt.title(title)\n",
    "        \n",
    "        plot_save_path = './figure_save_jerk/'+'state_'+state+'_acc_tar_'+str(a_tar)+'.png'\n",
    "        for j in [0, 1, 2, 3, 4]:\n",
    "            part = data[data.index%5 == j]\n",
    "            plt.plot(list(part.mean(axis=0)), label=str(jerk_array[j]))\n",
    "        plt.ylabel('mae(s)',fontsize=16)\n",
    "        plt.xlabel('scale',fontsize=16)\n",
    "        plt.legend()\n",
    "        plt.savefig(plot_save_path, dpi=600)\n",
    "        plt.close('all')\n",
    "        \n",
    "        plot_save_path = './figure_save_jerk/'+'state_'+state+'_acc_tar_'+str(a_tar)+'_zoom.png'\n",
    "        for j in [0, 1, 2, 3, 4]:\n",
    "            part = data[data.index%5 == j]\n",
    "            plt.plot(list(part.mean(axis=0)), label=str(jerk_array[j]))\n",
    "        plt.ylabel('mae(s)',fontsize=16)\n",
    "        plt.xlabel('scale',fontsize=16)\n",
    "        plt.xlim(0, 64)\n",
    "        plt.ylim(0, 2)\n",
    "        plt.legend()\n",
    "        plt.savefig(plot_save_path, dpi=600)\n",
    "        plt.close('all')\n"
   ]
  },
  {
   "cell_type": "code",
   "execution_count": 4,
   "id": "82872382",
   "metadata": {},
   "outputs": [],
   "source": [
    "def impacts_of_jerk(filter_condition, a_tar, results):\n",
    "    \n",
    "    state_change_label = {0: 'A-F', 1: 'A-D', 2: 'S-A', 3: 'F-D', 4: 'D-S'}\n",
    "    mae_columns = [c for c in results.columns if 'mae' in c]\n",
    "    \n",
    "    all_mae = {}\n",
    "    mean_mae = {}\n",
    "    sub_result_dict = {}\n",
    "    \n",
    "    jerk_array = [0.5, 1.0, 1.5, 2.0, 2.5]\n",
    "    \n",
    "    for look_at_label in [0, 2, 3, 4]:    \n",
    "\n",
    "        sub_results = results[results['state_change_label']  == look_at_label]\n",
    "        sub_result_dict[look_at_label] = sub_results\n",
    "\n",
    "        if filter_condition:\n",
    "            \n",
    "            filter_results = sub_results\n",
    "            #filter_results = sub_results[sub_results['test_jerk'] == jerk_tar]\n",
    "\n",
    "            if look_at_label == 0:\n",
    "                filter_results = filter_results[filter_results['test_acc'].astype('float') == a_tar]\n",
    "\n",
    "            elif look_at_label == 2:\n",
    "                filter_results = filter_results[filter_results['test_acc'].astype('float') == a_tar]\n",
    "\n",
    "            elif look_at_label == 3:\n",
    "                filter_results = filter_results[filter_results['test_dec'].astype('float') == -a_tar]\n",
    "\n",
    "            elif look_at_label == 4:\n",
    "                filter_results = filter_results[filter_results['test_dec'].astype('float') == -a_tar]\n",
    "\n",
    "        else:\n",
    "            filter_results = sub_results\n",
    "        \n",
    "        all_mae[look_at_label] = filter_results[mae_columns]\n",
    "\n",
    "        #mean_mae[look_at_label] = list(all_mae[look_at_label].mean(axis=0))\n",
    "\n",
    "    impacts_of_jerk_plot(all_mae, state_change_label, a_tar, jerk_array)\n",
    "    \n",
    "    return all_mae"
   ]
  },
  {
   "cell_type": "code",
   "execution_count": 5,
   "id": "05f16ae4",
   "metadata": {},
   "outputs": [],
   "source": [
    "for a in [1.0, 1.5, 2.0, 2.5, 3.0]:\n",
    "    all_mae = impacts_of_jerk(True, a, results)"
   ]
  },
  {
   "cell_type": "code",
   "execution_count": null,
   "id": "b7070514",
   "metadata": {},
   "outputs": [],
   "source": []
  }
 ],
 "metadata": {
  "kernelspec": {
   "display_name": "Python 3",
   "language": "python",
   "name": "python3"
  },
  "language_info": {
   "codemirror_mode": {
    "name": "ipython",
    "version": 3
   },
   "file_extension": ".py",
   "mimetype": "text/x-python",
   "name": "python",
   "nbconvert_exporter": "python",
   "pygments_lexer": "ipython3",
   "version": "3.8.8"
  }
 },
 "nbformat": 4,
 "nbformat_minor": 5
}
