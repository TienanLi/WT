{
 "cells": [
  {
   "cell_type": "code",
   "execution_count": 1,
   "id": "de5dce84",
   "metadata": {},
   "outputs": [],
   "source": [
    "import pandas as pd\n",
    "import numpy as np\n",
    "\n",
    "import os"
   ]
  },
  {
   "cell_type": "code",
   "execution_count": 2,
   "id": "aad12af1",
   "metadata": {},
   "outputs": [],
   "source": [
    "folder_path = \"data_save/\"\n",
    "    \n",
    "if os.path.isdir(folder_path) == False:\n",
    "    os.makedirs(folder_path)\n",
    "        \n",
    "folder_path = \"figure_save/\"\n",
    "    \n",
    "if os.path.isdir(folder_path) == False:\n",
    "    os.makedirs(folder_path)\n",
    "        \n",
    "folder_path = \"figure_save_v1/\"\n",
    "    \n",
    "if os.path.isdir(folder_path) == False:\n",
    "    os.makedirs(folder_path)\n",
    "        \n",
    "folder_path = \"figure_save_v2/\"\n",
    "    \n",
    "if os.path.isdir(folder_path) == False:\n",
    "    os.makedirs(folder_path)"
   ]
  },
  {
   "cell_type": "code",
   "execution_count": null,
   "id": "a23704cd",
   "metadata": {},
   "outputs": [],
   "source": []
  }
 ],
 "metadata": {
  "kernelspec": {
   "display_name": "Python 3",
   "language": "python",
   "name": "python3"
  },
  "language_info": {
   "codemirror_mode": {
    "name": "ipython",
    "version": 3
   },
   "file_extension": ".py",
   "mimetype": "text/x-python",
   "name": "python",
   "nbconvert_exporter": "python",
   "pygments_lexer": "ipython3",
   "version": "3.8.8"
  }
 },
 "nbformat": 4,
 "nbformat_minor": 5
}
