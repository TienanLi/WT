{
 "cells": [
  {
   "cell_type": "code",
   "execution_count": 1,
   "id": "6d2e5c79",
   "metadata": {},
   "outputs": [],
   "source": [
    "import pandas as pd\n",
    "import numpy as np\n",
    "import matplotlib.pyplot as plt\n",
    "\n",
    "import os"
   ]
  },
  {
   "cell_type": "code",
   "execution_count": 2,
   "id": "0007e614",
   "metadata": {},
   "outputs": [],
   "source": [
    "all_synthetic_trj = pd.read_csv('data_save/all_synthetic_trj.csv', header=0)\n",
    "traj_info = pd.read_csv('data_save/all_state_change_point_record.csv', header=0)\n",
    "results = pd.read_csv('data_save/scale_sensitivity_analysis_results.csv', header = 0)"
   ]
  },
  {
   "cell_type": "code",
   "execution_count": 3,
   "id": "81620a43",
   "metadata": {},
   "outputs": [],
   "source": [
    "def impacts_of_shifting_plot(all_mae, state_change_label, a_tar, jerk_tar):    \n",
    "    #########################draw the error curve of each trajectory in the same category#######################\n",
    "    folder_path = \"figure_save_shifting/\"+ 'a_tar_'+str(a_tar)+ '_jerk_tar_'+str(jerk_tar)\n",
    "    \n",
    "    if os.path.isdir(folder_path) == False:\n",
    "        os.makedirs(folder_path)\n",
    "    \n",
    "    for j in [0, 2, 3, 4]:\n",
    "        title = state_change_label[j]\n",
    "        plot_save_path = './figure_save_shifting/' + 'a_tar_'+str(a_tar)+ '_jerk_tar_'+str(jerk_tar)+'/'+title+'a_tar_'+str(a_tar)+ 'jerk_tar_'+str(jerk_tar)+'.png'\n",
    "        for i in all_mae[j].index:\n",
    "            plt.plot(range(2,128), all_mae[j].loc[i,:], label = i)\n",
    "            plt.legend(fontsize=12)\n",
    "            plt.ylabel('error(s)',fontsize=16)\n",
    "            plt.xlabel('scale',fontsize=16)\n",
    "        #     plt.xlim(0, 50)\n",
    "        #     plt.ylim(0, 0.5)\n",
    "        plt.title(title)\n",
    "        plt.savefig(plot_save_path, dpi=600)\n",
    "        plt.close('all')\n",
    "        \n",
    "        plot_save_path = './figure_save_shifting/' + 'a_tar_'+str(a_tar)+ '_jerk_tar_'+str(jerk_tar)+'/'+title+'a_tar_'+str(a_tar)+ 'jerk_tar_'+str(jerk_tar)+'_zoom.png'\n",
    "        for i in all_mae[j].index:\n",
    "            plt.plot(range(2,128), all_mae[j].loc[i,:], label = i)\n",
    "            plt.legend(fontsize=12)\n",
    "            plt.ylabel('error(s)',fontsize=16)\n",
    "            plt.xlabel('scale',fontsize=16)\n",
    "            plt.xlim(0, 64)\n",
    "            plt.ylim(0, 2)\n",
    "        plt.title(title)\n",
    "        plt.savefig(plot_save_path, dpi=600)\n",
    "        plt.close('all')"
   ]
  },
  {
   "cell_type": "code",
   "execution_count": 4,
   "id": "06db25b5",
   "metadata": {},
   "outputs": [],
   "source": [
    "def impacts_of_shifting(filter_condition, a_tar, jerk_tar, results):\n",
    "    \n",
    "    state_change_label = {0: 'A-F', 1: 'A-D', 2: 'S-A', 3: 'F-D', 4: 'D-S'}\n",
    "    mae_columns = [c for c in results.columns if 'mae' in c]\n",
    "    \n",
    "    all_mae = {}\n",
    "    mean_mae = {}\n",
    "    sub_result_dict = {}\n",
    "    \n",
    "    for look_at_label in [0, 2, 3, 4]:    \n",
    "\n",
    "        sub_results = results[results['state_change_label']  == look_at_label]\n",
    "        sub_result_dict[look_at_label] = sub_results\n",
    "\n",
    "        if filter_condition:\n",
    "\n",
    "            filter_results = sub_results[sub_results['test_jerk'] == jerk_tar]\n",
    "\n",
    "            if look_at_label == 0:\n",
    "                filter_results = filter_results[filter_results['test_acc'].astype('float') == a_tar]\n",
    "\n",
    "            elif look_at_label == 2:\n",
    "                filter_results = filter_results[filter_results['test_acc'].astype('float') == a_tar]\n",
    "\n",
    "            elif look_at_label == 3:\n",
    "                filter_results = filter_results[filter_results['test_dec'].astype('float') == -a_tar]\n",
    "\n",
    "            elif look_at_label == 4:\n",
    "                filter_results = filter_results[filter_results['test_dec'].astype('float') == -a_tar]\n",
    "\n",
    "        else:\n",
    "            filter_results = sub_results\n",
    "\n",
    "        all_mae[look_at_label] = filter_results[mae_columns]\n",
    "\n",
    "        mean_mae[look_at_label] = list(all_mae[look_at_label].mean(axis=0))\n",
    "        \n",
    "    impacts_of_shifting_plot(all_mae, state_change_label, a_tar, jerk_tar)"
   ]
  },
  {
   "cell_type": "code",
   "execution_count": 5,
   "id": "430b59e3",
   "metadata": {},
   "outputs": [],
   "source": [
    "for a in [1.0, 1.5, 2, 2.5, 3.0]:\n",
    "    for j in [0.5, 1.0, 1.5, 2.0, 2.5]:\n",
    "        impacts_of_shifting(True, a, j, results)"
   ]
  },
  {
   "cell_type": "code",
   "execution_count": null,
   "id": "65ad3acd",
   "metadata": {},
   "outputs": [],
   "source": []
  }
 ],
 "metadata": {
  "kernelspec": {
   "display_name": "Python 3",
   "language": "python",
   "name": "python3"
  },
  "language_info": {
   "codemirror_mode": {
    "name": "ipython",
    "version": 3
   },
   "file_extension": ".py",
   "mimetype": "text/x-python",
   "name": "python",
   "nbconvert_exporter": "python",
   "pygments_lexer": "ipython3",
   "version": "3.8.8"
  }
 },
 "nbformat": 4,
 "nbformat_minor": 5
}
