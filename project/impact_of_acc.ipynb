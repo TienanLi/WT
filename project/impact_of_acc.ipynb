{
 "cells": [
  {
   "cell_type": "code",
   "execution_count": 1,
   "id": "e3e2ae06",
   "metadata": {},
   "outputs": [],
   "source": [
    "import pandas as pd\n",
    "import numpy as np\n",
    "import matplotlib.pyplot as plt\n",
    "import math\n",
    "\n",
    "import os"
   ]
  },
  {
   "cell_type": "code",
   "execution_count": 2,
   "id": "25fed235",
   "metadata": {},
   "outputs": [],
   "source": [
    "all_synthetic_trj = pd.read_csv('data_save/all_synthetic_trj.csv', header=0)\n",
    "traj_info = pd.read_csv('data_save/all_state_change_point_record.csv', header=0)\n",
    "results = pd.read_csv('data_save/scale_sensitivity_analysis_results.csv', header = 0)"
   ]
  },
  {
   "cell_type": "code",
   "execution_count": 3,
   "id": "92981bce",
   "metadata": {},
   "outputs": [],
   "source": [
    "def impacts_of_acc_plot(all_mae, state_change_label, jerk_tar, acc_array):\n",
    "    \n",
    "    index_space = int(jerk_tar/0.5)-1\n",
    "    \n",
    "    folder_path = \"figure_save_acc/\"\n",
    "    \n",
    "    if os.path.isdir(folder_path) == False:\n",
    "        os.makedirs(folder_path)\n",
    "    \n",
    "    \n",
    "    for i in [0, 2, 3, 4]:\n",
    "    #for i in [0]:\n",
    "    \n",
    "        data = all_mae[i]\n",
    "        \n",
    "        state = state_change_label[i]\n",
    "        title = 'state_'+state+'_jerk_tar_'+str(jerk_tar)\n",
    "        plt.title(title)\n",
    "        \n",
    "        plot_save_path = './figure_save_acc/'+'state_'+state+'_jerk_tar_'+str(jerk_tar)+'.png'\n",
    "        \n",
    "        for j in [0, 1, 2, 3, 4]:\n",
    "            part = data[(data.index -index_space)/5 %5 == j]\n",
    "            #print('part\\n', part)\n",
    "            plt.plot(list(part.mean(axis=0)), label='acc_'+str(acc_array[j]))\n",
    "        plt.ylabel('mae(s)',fontsize=16)\n",
    "        plt.xlabel('scale',fontsize=16)\n",
    "        plt.legend()\n",
    "        plt.savefig(plot_save_path, dpi=600)\n",
    "        plt.close('all')\n",
    "        \n",
    "        plot_save_path = './figure_save_acc/'+'state_'+state+'_jerk_tar_'+str(jerk_tar)+'_zoom.png'\n",
    "        plt.title(title)\n",
    "        for j in [0, 1, 2, 3, 4]:\n",
    "            part = data[(data.index -index_space)/5 %5 == j]\n",
    "            #print('part\\n', part)\n",
    "            plt.plot(list(part.mean(axis=0)), label='acc_'+str(acc_array[j]))\n",
    "        plt.ylabel('mae(s)',fontsize=16)\n",
    "        plt.xlabel('scale',fontsize=16)\n",
    "        plt.xlim(0, 64)\n",
    "        plt.ylim(0, 2)\n",
    "        plt.legend()\n",
    "        plt.savefig(plot_save_path, dpi=600)\n",
    "        plt.close('all')"
   ]
  },
  {
   "cell_type": "code",
   "execution_count": 4,
   "id": "ef3c6ced",
   "metadata": {},
   "outputs": [],
   "source": [
    "def impacts_of_acc(filter_condition, jerk_tar, results):\n",
    "    \n",
    "    state_change_label = {0: 'A-F', 1: 'A-D', 2: 'S-A', 3: 'F-D', 4: 'D-S'}\n",
    "    mae_columns = [c for c in results.columns if 'mae' in c]\n",
    "    \n",
    "    all_mae = {}\n",
    "    mean_mae = {}\n",
    "    sub_result_dict = {}\n",
    "    \n",
    "    acc_array = [1.0, 1.5, 2.0, 2.5, 3.0]\n",
    "     \n",
    "    for look_at_label in [0, 2, 3, 4]:    \n",
    "\n",
    "        sub_results = results[results['state_change_label']  == look_at_label]\n",
    "        sub_result_dict[look_at_label] = sub_results\n",
    "\n",
    "        if filter_condition:\n",
    "            \n",
    "            filter_results = sub_results\n",
    "            #filter_results = sub_results[sub_results['test_jerk'] == jerk_tar]\n",
    "\n",
    "            filter_results = filter_results[filter_results['test_jerk'].astype('float') == jerk_tar]\n",
    "\n",
    "        else:\n",
    "            filter_results = sub_results\n",
    "        \n",
    "        all_mae[look_at_label] = filter_results[mae_columns]\n",
    "\n",
    "        #mean_mae[look_at_label] = list(all_mae[look_at_label].mean(axis=0))\n",
    "\n",
    "    impacts_of_acc_plot(all_mae, state_change_label, jerk_tar, acc_array)\n",
    "    \n",
    "    return all_mae"
   ]
  },
  {
   "cell_type": "code",
   "execution_count": 5,
   "id": "556d4257",
   "metadata": {},
   "outputs": [],
   "source": [
    "for j in [0.5, 1.0, 1.5, 2.0, 2.5]:\n",
    "    all_mae = impacts_of_acc(True, j, results)"
   ]
  },
  {
   "cell_type": "code",
   "execution_count": null,
   "id": "46d16942",
   "metadata": {},
   "outputs": [],
   "source": []
  }
 ],
 "metadata": {
  "kernelspec": {
   "display_name": "Python 3",
   "language": "python",
   "name": "python3"
  },
  "language_info": {
   "codemirror_mode": {
    "name": "ipython",
    "version": 3
   },
   "file_extension": ".py",
   "mimetype": "text/x-python",
   "name": "python",
   "nbconvert_exporter": "python",
   "pygments_lexer": "ipython3",
   "version": "3.8.8"
  }
 },
 "nbformat": 4,
 "nbformat_minor": 5
}
