{
 "cells": [
  {
   "cell_type": "code",
   "execution_count": 7,
   "id": "7ec5eede",
   "metadata": {},
   "outputs": [],
   "source": [
    "import os\n",
    "import math\n",
    "import numpy as np\n",
    "import pandas as pd\n",
    "import pywt\n",
    "import matplotlib.pyplot as plt\n",
    "from scipy.signal import argrelextrema, find_peaks\n",
    "from matplotlib.ticker import (MultipleLocator, FormatStrFormatter, AutoMinorLocator)\n",
    "import cv2\n",
    "import glob\n",
    "import scipy.stats as stats"
   ]
  },
  {
   "cell_type": "code",
   "execution_count": 2,
   "id": "d77cb8e6",
   "metadata": {},
   "outputs": [],
   "source": [
    "def local_maxima_points_plot_v1(current_veh_trj, final_local_maxima_points, current_change_point_record):\n",
    "    \n",
    "    zoom_in_scale = 64 / (max(current_veh_trj.speed) - min(current_veh_trj.speed))\n",
    "    \n",
    "    id = current_change_point_record.veh_id\n",
    "    state_index = math.floor(id/200)\n",
    "    if state_index == 0:\n",
    "        state_type = 'A-F'\n",
    "    elif state_index == 1:\n",
    "        state_type = 'A-D'\n",
    "    elif state_index == 2:\n",
    "        state_type = 'S-A'\n",
    "    elif state_index == 3:\n",
    "        state_type = 'F-D'\n",
    "    else:\n",
    "        state_type = 'D-S'\n",
    "    start_rate = current_veh_trj['acceleration'].iloc[0]\n",
    "    end_rate = current_veh_trj['acceleration'].iloc[-1]\n",
    "    jerk = current_change_point_record['test_jerk']\n",
    "        \n",
    "    title_message = 'veh:'+str(id)+','+state_type+','+' start_rate:'+str(start_rate)+', end_rate:'+str(end_rate)+', jerk:'+str(jerk)\n",
    "    plot_save_path = './figure_save_v1/' + 'veh_'+str(id)+'.png'\n",
    "    \n",
    "    plt.title(title_message)\n",
    "    plt.xlabel('Time Index')\n",
    "    plt.ylabel('Diff Scales')\n",
    "    plt.plot(current_veh_trj.local_time*10, current_veh_trj.speed*zoom_in_scale, label='Subject Speed')\n",
    "    plt.plot(final_local_maxima_points.time_index*10, final_local_maxima_points.scale_id, 'ro', markersize=1, label='local maxima points')\n",
    "    plt.ylim(bottom=1)\n",
    "    plt.grid()\n",
    "    plt.xlim([current_veh_trj.local_time.min()*10, current_veh_trj.local_time.max()*10])\n",
    "    plt.legend()\n",
    "    plt.savefig(plot_save_path, dpi=600)\n",
    "    plt.close('all')"
   ]
  },
  {
   "cell_type": "code",
   "execution_count": null,
   "id": "c4238518",
   "metadata": {},
   "outputs": [],
   "source": []
  }
 ],
 "metadata": {
  "kernelspec": {
   "display_name": "Python 3",
   "language": "python",
   "name": "python3"
  },
  "language_info": {
   "codemirror_mode": {
    "name": "ipython",
    "version": 3
   },
   "file_extension": ".py",
   "mimetype": "text/x-python",
   "name": "python",
   "nbconvert_exporter": "python",
   "pygments_lexer": "ipython3",
   "version": "3.8.8"
  }
 },
 "nbformat": 4,
 "nbformat_minor": 5
}
