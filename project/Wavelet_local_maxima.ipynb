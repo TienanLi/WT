{
 "cells": [
  {
   "cell_type": "code",
   "execution_count": 1,
   "id": "f100a8b3",
   "metadata": {},
   "outputs": [],
   "source": [
    "import os\n",
    "import math\n",
    "import numpy as np\n",
    "import pandas as pd\n",
    "import pywt\n",
    "import matplotlib.pyplot as plt\n",
    "from scipy.signal import argrelextrema, find_peaks\n",
    "from matplotlib.ticker import (MultipleLocator, FormatStrFormatter, AutoMinorLocator)\n",
    "import cv2\n",
    "import glob\n",
    "import scipy.stats as stats"
   ]
  },
  {
   "cell_type": "code",
   "execution_count": 2,
   "id": "19dc71ae",
   "metadata": {},
   "outputs": [
    {
     "name": "stdout",
     "output_type": "stream",
     "text": [
      "importing Jupyter notebook from Data_extension.ipynb\n"
     ]
    }
   ],
   "source": [
    "%run Ipynb_importer.py\n",
    "import Data_extension"
   ]
  },
  {
   "cell_type": "code",
   "execution_count": 5,
   "id": "b91bf190",
   "metadata": {},
   "outputs": [],
   "source": [
    "def wavelet_local_maxima(data, scale_in):\n",
    "\n",
    "    extend_length = 100\n",
    "    data = Data_extension.Data_extension(data, extend_length)\n",
    "    \n",
    "    wname = \"mexh\"\n",
    "    coeffs, freqs = pywt.cwt(data, scales=np.arange(1, scale_in), wavelet=wname)\n",
    "    \n",
    "    # calculate the local maxima at each time step: for plotting local maxima lines\n",
    "    # note that the local maxima information is the scale position, not the exact coefficient values\n",
    "    # note that absolute values of wavelet coefficients should be used\n",
    "    # note that the method of finding the local maxima is: under certain scale, find all the time correspinding to all the local maxima\n",
    "    absolute_coeffs = np.absolute(coeffs)\n",
    "    absolute_coeffs = np.delete(absolute_coeffs, range(extend_length), axis=1)\n",
    "    absolute_coeffs = np.delete(absolute_coeffs, (np.arange(extend_length) + 1) * (-1), axis=1)\n",
    "    local_maxima_points = pd.DataFrame()\n",
    "    for i in range(scale_in - 1):\n",
    "        current_scale_coeffs = absolute_coeffs[i, :]\n",
    "        \n",
    "        #local_maxima_index = argrelextrema(current_scale_coeffs, np.greater, order=2)\n",
    "        #use find_peaks instead of argrelextrema, round the coef array to avoid some numerical errors\n",
    "        local_maxima_index = find_peaks(np.round(current_scale_coeffs, 6), width=2)\n",
    "        local_maxima_index = local_maxima_index[0]\n",
    "        \n",
    "        maxima_info = pd.DataFrame(np.zeros((len(local_maxima_index), 2)), columns=['time_index', 'scale_id'])\n",
    "\n",
    "        for max_i in range(len(local_maxima_index)):\n",
    "            maxima_info.loc[max_i, 'time_index'] = local_maxima_index[max_i]  # time index position\n",
    "            maxima_info.loc[max_i, 'scale_id'] = i + 1  # scale id\n",
    "        local_maxima_points = local_maxima_points.append(maxima_info)\n",
    "    return local_maxima_points"
   ]
  },
  {
   "cell_type": "code",
   "execution_count": null,
   "id": "3c34f9de",
   "metadata": {},
   "outputs": [],
   "source": []
  }
 ],
 "metadata": {
  "kernelspec": {
   "display_name": "Python 3",
   "language": "python",
   "name": "python3"
  },
  "language_info": {
   "codemirror_mode": {
    "name": "ipython",
    "version": 3
   },
   "file_extension": ".py",
   "mimetype": "text/x-python",
   "name": "python",
   "nbconvert_exporter": "python",
   "pygments_lexer": "ipython3",
   "version": "3.8.8"
  }
 },
 "nbformat": 4,
 "nbformat_minor": 5
}
