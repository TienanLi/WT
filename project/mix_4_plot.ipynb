{
 "cells": [
  {
   "cell_type": "code",
   "execution_count": 7,
   "id": "8be48bab",
   "metadata": {},
   "outputs": [],
   "source": [
    "import os\n",
    "import math\n",
    "import numpy as np\n",
    "import pandas as pd\n",
    "import pywt\n",
    "import matplotlib.pyplot as plt\n",
    "from scipy.signal import argrelextrema, find_peaks\n",
    "from matplotlib.ticker import (MultipleLocator, FormatStrFormatter, AutoMinorLocator)\n",
    "import cv2\n",
    "import glob\n",
    "import scipy.stats as stats"
   ]
  },
  {
   "cell_type": "code",
   "execution_count": 8,
   "id": "711f0db5",
   "metadata": {},
   "outputs": [],
   "source": [
    "def mix_4_plot():\n",
    "    folder_path = \"result_mix_local_denoise/\"\n",
    "    \n",
    "    if os.path.isdir(folder_path) == False:\n",
    "        os.makedirs(folder_path)\n",
    "    \n",
    "    zerozerozero = pd.read_csv('result_LocalMax_/add_LocalEnergy/result_with_000_noise_extend_1000_local/data_save/scale_sensitivity_analysis_results.csv', header=0)\n",
    "    zerozerosix = pd.read_csv('result_LocalMax_/add_LocalEnergy_add_ext_db20/result_with_010_noise_extend_1000_local/data_save/de_scale_sensitivity_analysis_results.csv', header=0)\n",
    "    zeroonetwo = pd.read_csv('result_LocalMax_/add_LocalEnergy_add_ext_db20/result_with_020_noise_extend_1000_local/data_save/de_scale_sensitivity_analysis_results.csv', header=0)\n",
    "    zerooneeight = pd.read_csv('result_LocalMax_/add_LocalEnergy_add_ext_db20/result_with_040_noise_extend_1000_local/data_save/de_scale_sensitivity_analysis_results.csv', header=0)\n",
    "    \n",
    "    scale_list = list(range(2, 128))\n",
    "    mae_list = list(range(128 - 2))\n",
    "    \n",
    "    for i in range(len(scale_list)):\n",
    "        current_mae_name = 'scale_' + str(scale_list[i]) + '_mae'\n",
    "        mae_list[i] = zerozerozero.loc[:, current_mae_name].mean()\n",
    "    plt.plot(scale_list, mae_list, '-^', markersize=1, linewidth=1, label='zero noise')\n",
    "    plt.title('Wavelet MaxModule Scale Sensitivity Analysis')\n",
    "    plt.ylabel('Mean Absolute Error (s)')\n",
    "    plt.xlabel('Scale')\n",
    "    #plt.xlim(xmin=0)\n",
    "    #plt.ylim(ymin=0)\n",
    "    \n",
    "    for i in range(len(scale_list)):\n",
    "        current_mae_name = 'scale_' + str(scale_list[i]) + '_mae'\n",
    "        mae_list[i] = zerozerosix.loc[:, current_mae_name].mean()\n",
    "    plt.plot(scale_list, mae_list, '-^', markersize=1, linewidth=1, label='0.10 de-noise')\n",
    "    plt.title('Wavelet MaxModule Scale Sensitivity Analysis')\n",
    "    plt.ylabel('Mean Absolute Error (s)')\n",
    "    plt.xlabel('Scale')\n",
    "    #plt.xlim(xmin=0)\n",
    "    #plt.ylim(ymin=0)\n",
    "    \n",
    "    for i in range(len(scale_list)):\n",
    "        current_mae_name = 'scale_' + str(scale_list[i]) + '_mae'\n",
    "        mae_list[i] = zeroonetwo.loc[:, current_mae_name].mean()\n",
    "    plt.plot(scale_list, mae_list, '-^', markersize=1, linewidth=1, label='0.20 de-noise')\n",
    "    plt.title('Wavelet MaxModule Scale Sensitivity Analysis')\n",
    "    plt.ylabel('Mean Absolute Error (s)')\n",
    "    plt.xlabel('Scale')\n",
    "    #plt.xlim(xmin=0)\n",
    "    #plt.ylim(ymin=0)\n",
    "    \n",
    "    for i in range(len(scale_list)):\n",
    "        current_mae_name = 'scale_' + str(scale_list[i]) + '_mae'\n",
    "        mae_list[i] = zerooneeight.loc[:, current_mae_name].mean()\n",
    "    plt.plot(scale_list, mae_list, '-^', markersize=1, linewidth=1, label='0.40 de-noise')\n",
    "    plt.title('Wavelet MaxModule Scale Sensitivity Analysis')\n",
    "    plt.ylabel('Mean Absolute Error (s)')\n",
    "    plt.xlabel('Scale')\n",
    "    #plt.xlim(xmin=0)\n",
    "    #plt.ylim(ymin=0)\n",
    "    \n",
    "    plt.legend()\n",
    "    # plt.grid(linestyle='dotted')\n",
    "    fig1_save_title = 'result_mix_local_denoise/' + 'Wavelet Scale Sensitivity Analysis.png'\n",
    "    #plt.show()\n",
    "    plt.savefig(fig1_save_title, dpi=600)\n",
    "    plt.close('all')"
   ]
  },
  {
   "cell_type": "code",
   "execution_count": 9,
   "id": "575fbe2b",
   "metadata": {},
   "outputs": [],
   "source": [
    "mix_4_plot()"
   ]
  },
  {
   "cell_type": "code",
   "execution_count": null,
   "id": "1860343c",
   "metadata": {},
   "outputs": [],
   "source": []
  }
 ],
 "metadata": {
  "kernelspec": {
   "display_name": "Python 3",
   "language": "python",
   "name": "python3"
  },
  "language_info": {
   "codemirror_mode": {
    "name": "ipython",
    "version": 3
   },
   "file_extension": ".py",
   "mimetype": "text/x-python",
   "name": "python",
   "nbconvert_exporter": "python",
   "pygments_lexer": "ipython3",
   "version": "3.8.8"
  }
 },
 "nbformat": 4,
 "nbformat_minor": 5
}
