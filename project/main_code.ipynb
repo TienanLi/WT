{
 "cells": [
  {
   "cell_type": "code",
   "execution_count": 1,
   "id": "3257f74e",
   "metadata": {},
   "outputs": [],
   "source": [
    "import os\n",
    "import math\n",
    "import numpy as np\n",
    "import pandas as pd\n",
    "import pywt\n",
    "import matplotlib.pyplot as plt\n",
    "from scipy.signal import argrelextrema, find_peaks\n",
    "from matplotlib.ticker import (MultipleLocator, FormatStrFormatter, AutoMinorLocator)\n",
    "import cv2\n",
    "import glob\n",
    "import scipy.stats as stats"
   ]
  },
  {
   "cell_type": "code",
   "execution_count": 2,
   "id": "2ec63bbc",
   "metadata": {},
   "outputs": [
    {
     "name": "stdout",
     "output_type": "stream",
     "text": [
      "importing Jupyter notebook from Data_extension.ipynb\n",
      "importing Jupyter notebook from Wavelet_energy_cal.ipynb\n",
      "importing Jupyter notebook from Wavelet_local_maxima.ipynb\n",
      "importing Jupyter notebook from local_maxima_points_plot_v1.ipynb\n",
      "importing Jupyter notebook from local_maxima_points_plot_v2.ipynb\n",
      "importing Jupyter notebook from Wavelet_transform.ipynb\n"
     ]
    }
   ],
   "source": [
    "%run Ipynb_importer.py\n",
    "\n",
    "import Data_extension\n",
    "import Wavelet_energy_cal\n",
    "import Wavelet_local_maxima\n",
    "import local_maxima_points_plot_v1\n",
    "import local_maxima_points_plot_v2\n",
    "import Wavelet_transform"
   ]
  },
  {
   "cell_type": "code",
   "execution_count": 3,
   "id": "954b5745",
   "metadata": {},
   "outputs": [],
   "source": [
    "import random\n",
    "\n",
    "import time"
   ]
  },
  {
   "cell_type": "code",
   "execution_count": 4,
   "id": "8e0b26d3",
   "metadata": {},
   "outputs": [],
   "source": [
    "def wavelet_detection_scale_sensitivity_analysis(all_state_change_point_record, all_synthetic_trj_in):\n",
    "    \n",
    "    # add a new col 'index'\n",
    "    # inplace: bool, default False\n",
    "    # If True, modifies the DataFrame in place (do not create a new object).\n",
    "    all_state_change_point_record_in = all_state_change_point_record.reset_index()\n",
    "    \n",
    "    # make a Copy for the syn data.  tips: for the .copy() deep=True is the default which means we dont need to write here. LOL.\n",
    "    scale_sensitivity_analysis_results = all_state_change_point_record_in.copy(deep=True)\n",
    "    \n",
    "    # set the scale range, usually do not need to be too big probab less than 50?\n",
    "    scale_list = range(2, 128)\n",
    "    \n",
    "    # initialize results columns and set all of them to 0\n",
    "    # i belongs [0, 125]\n",
    "    for i in range(len(scale_list)):\n",
    "        current_scale_name = 'scale_' + str(scale_list[i]) + '_time'\n",
    "        current_mae_name = 'scale_' + str(scale_list[i]) + '_mae'\n",
    "        scale_sensitivity_analysis_results.loc[:, current_scale_name] = 0\n",
    "        scale_sensitivity_analysis_results.loc[:, current_mae_name] = 0\n",
    "    \n",
    "    # here i in from 0 to 999\n",
    "    #for i in range(0,1):\n",
    "    for i in range(0, len(all_state_change_point_record_in.loc[:, 'veh_id'])):\n",
    "\n",
    "        # get id\n",
    "        # .at() cool function , Get value at specified row/column pair\n",
    "        current_veh_id = all_state_change_point_record_in.at[i, 'veh_id']\n",
    "        print_content = 'Now in vehicle: ' + str(current_veh_id)\n",
    "        print(print_content)\n",
    "        \n",
    "        # get data\n",
    "        # Get the corresponding Record data.\n",
    "        # Obtain the corresponding 200 timestamp data\n",
    "        # Convert the pandas series to List, can use both list() or list(), only a little diff.\n",
    "        current_change_point_record = all_state_change_point_record_in.loc[i, :]\n",
    "        current_veh_trj = all_synthetic_trj_in.loc[all_synthetic_trj_in['veh_id'] == current_veh_id, :]\n",
    "        current_veh_speed = list(current_veh_trj.loc[:, 'speed'])\n",
    "        \n",
    "        # save averaged_energy for diff scale\n",
    "        WE=[]\n",
    "        for max_scale in scale_list:\n",
    "            if max_scale == 2:\n",
    "                WE.append(Wavelet_energy_cal.wavelet_energy_cal(current_veh_speed, max_scale))\n",
    "            else:\n",
    "                current_wavelet_energy = Wavelet_energy_cal.wavelet_energy_cal(current_veh_speed, max_scale)\n",
    "                WE = np.concatenate((WE, [current_wavelet_energy]), axis=0)\n",
    "            \n",
    "        max_scale = scale_list[-1]+1\n",
    "        # here is the change we make, we change the function below.\n",
    "        # now is return the local_maxima_points\n",
    "        current_local_maxima_points = Wavelet_local_maxima.wavelet_local_maxima(current_veh_speed, max_scale)\n",
    "        \n",
    "        new_data = pd.DataFrame()\n",
    "        new_data['time'] = current_veh_trj['local_time']\n",
    "        new_data['speed'] = current_veh_trj['speed']\n",
    "\n",
    "        # change the timestamp into real time_index\n",
    "        current_local_maxima_points_01 = current_local_maxima_points.copy()\n",
    "        current_local_maxima_points_01.time_index = current_local_maxima_points.time_index * 0.1\n",
    "\n",
    "        # add Corresponding average energy to the local_maxima_points dataframe\n",
    "        # because for some scale ,there is more than one point. \n",
    "        # we want to choose the one with max energy\n",
    "        add_energy_to_LMP = current_local_maxima_points_01.copy()\n",
    "        ene = []\n",
    "        for index, row in add_energy_to_LMP.iterrows():\n",
    "            if row.scale_id == 1:\n",
    "                ene.append(0)\n",
    "            else:\n",
    "                ene.append(WE[int(row.scale_id)-2][int(round(row.time_index,1)*10)])\n",
    "        add_energy_to_LMP['Corresponding_energy'] = ene\n",
    "\n",
    "        final_local_maxima_points = pd.DataFrame()\n",
    "        \n",
    "        grouped = add_energy_to_LMP.groupby(['scale_id'])\n",
    "        for name,group in grouped:\n",
    "            current_scale_name = 'scale_' + str(int(name)) + '_time'\n",
    "            current_mae_name = 'scale_' + str(int(name)) + '_mae'\n",
    "            if name > 1.0:\n",
    "                result = group[group.Corresponding_energy == max(group.Corresponding_energy)]\n",
    "                final_local_maxima_points = final_local_maxima_points.append(result)\n",
    "                \n",
    "                scale_sensitivity_analysis_results.loc[i, current_scale_name] = np.mean(result.time_index.values)\n",
    "                #scale_sensitivity_analysis_results.loc[i, current_scale_name] = result.time_index.values[0]\n",
    "                scale_sensitivity_analysis_results.loc[i, current_mae_name] = abs(np.mean(result.time_index.values) - scale_sensitivity_analysis_results.loc[i, 'mid_change_point_time'])\n",
    "                #scale_sensitivity_analysis_results.loc[i, current_mae_name] = abs(result.time_index.values[0] - scale_sensitivity_analysis_results.loc[i, 'mid_change_point_time'])\n",
    "        \n",
    "        #print('current_change_point_record\\n', current_change_point_record)\n",
    "        \n",
    "        local_maxima_points_plot_v1.local_maxima_points_plot_v1(current_veh_trj, final_local_maxima_points, current_change_point_record)\n",
    "        local_maxima_points_plot_v2.local_maxima_points_plot_v2(current_veh_trj, final_local_maxima_points, current_change_point_record)\n",
    "        \n",
    "    scale_sensitivity_analysis_results.to_csv('./data_save/scale_sensitivity_analysis_results.csv')\n",
    "    \n",
    "    return"
   ]
  },
  {
   "cell_type": "code",
   "execution_count": 5,
   "id": "7fb8af39",
   "metadata": {},
   "outputs": [
    {
     "name": "stdout",
     "output_type": "stream",
     "text": [
      "Now in vehicle: 0\n",
      "Now in vehicle: 1\n",
      "Now in vehicle: 2\n"
     ]
    },
    {
     "ename": "KeyboardInterrupt",
     "evalue": "",
     "output_type": "error",
     "traceback": [
      "\u001b[1;31m---------------------------------------------------------------------------\u001b[0m",
      "\u001b[1;31mKeyboardInterrupt\u001b[0m                         Traceback (most recent call last)",
      "\u001b[1;32m<ipython-input-5-8c0bed9e6c41>\u001b[0m in \u001b[0;36m<module>\u001b[1;34m\u001b[0m\n\u001b[0;32m     17\u001b[0m \u001b[0mnew_all_synthetic_trj\u001b[0m\u001b[1;33m[\u001b[0m\u001b[1;34m'speed'\u001b[0m\u001b[1;33m]\u001b[0m \u001b[1;33m=\u001b[0m \u001b[0mall_speed_array\u001b[0m\u001b[1;33m\u001b[0m\u001b[1;33m\u001b[0m\u001b[0m\n\u001b[0;32m     18\u001b[0m \u001b[1;33m\u001b[0m\u001b[0m\n\u001b[1;32m---> 19\u001b[1;33m \u001b[0mwavelet_detection_scale_sensitivity_analysis\u001b[0m\u001b[1;33m(\u001b[0m\u001b[0mall_state_change_point_record\u001b[0m\u001b[1;33m,\u001b[0m \u001b[0mnew_all_synthetic_trj\u001b[0m\u001b[1;33m)\u001b[0m\u001b[1;33m\u001b[0m\u001b[1;33m\u001b[0m\u001b[0m\n\u001b[0m\u001b[0;32m     20\u001b[0m \u001b[1;33m\u001b[0m\u001b[0m\n\u001b[0;32m     21\u001b[0m \u001b[0mprint\u001b[0m \u001b[1;33m(\u001b[0m\u001b[1;34m\"seconds\"\u001b[0m\u001b[1;33m,\u001b[0m \u001b[0mtime\u001b[0m\u001b[1;33m.\u001b[0m\u001b[0mtime\u001b[0m\u001b[1;33m(\u001b[0m\u001b[1;33m)\u001b[0m \u001b[1;33m-\u001b[0m \u001b[0mstart_time\u001b[0m\u001b[1;33m)\u001b[0m\u001b[1;33m\u001b[0m\u001b[1;33m\u001b[0m\u001b[0m\n",
      "\u001b[1;32m<ipython-input-4-086ed2d72040>\u001b[0m in \u001b[0;36mwavelet_detection_scale_sensitivity_analysis\u001b[1;34m(all_state_change_point_record, all_synthetic_trj_in)\u001b[0m\n\u001b[0;32m     44\u001b[0m                 \u001b[0mWE\u001b[0m\u001b[1;33m.\u001b[0m\u001b[0mappend\u001b[0m\u001b[1;33m(\u001b[0m\u001b[0mWavelet_energy_cal\u001b[0m\u001b[1;33m.\u001b[0m\u001b[0mwavelet_energy_cal\u001b[0m\u001b[1;33m(\u001b[0m\u001b[0mcurrent_veh_speed\u001b[0m\u001b[1;33m,\u001b[0m \u001b[0mmax_scale\u001b[0m\u001b[1;33m)\u001b[0m\u001b[1;33m)\u001b[0m\u001b[1;33m\u001b[0m\u001b[1;33m\u001b[0m\u001b[0m\n\u001b[0;32m     45\u001b[0m             \u001b[1;32melse\u001b[0m\u001b[1;33m:\u001b[0m\u001b[1;33m\u001b[0m\u001b[1;33m\u001b[0m\u001b[0m\n\u001b[1;32m---> 46\u001b[1;33m                 \u001b[0mcurrent_wavelet_energy\u001b[0m \u001b[1;33m=\u001b[0m \u001b[0mWavelet_energy_cal\u001b[0m\u001b[1;33m.\u001b[0m\u001b[0mwavelet_energy_cal\u001b[0m\u001b[1;33m(\u001b[0m\u001b[0mcurrent_veh_speed\u001b[0m\u001b[1;33m,\u001b[0m \u001b[0mmax_scale\u001b[0m\u001b[1;33m)\u001b[0m\u001b[1;33m\u001b[0m\u001b[1;33m\u001b[0m\u001b[0m\n\u001b[0m\u001b[0;32m     47\u001b[0m                 \u001b[0mWE\u001b[0m \u001b[1;33m=\u001b[0m \u001b[0mnp\u001b[0m\u001b[1;33m.\u001b[0m\u001b[0mconcatenate\u001b[0m\u001b[1;33m(\u001b[0m\u001b[1;33m(\u001b[0m\u001b[0mWE\u001b[0m\u001b[1;33m,\u001b[0m \u001b[1;33m[\u001b[0m\u001b[0mcurrent_wavelet_energy\u001b[0m\u001b[1;33m]\u001b[0m\u001b[1;33m)\u001b[0m\u001b[1;33m,\u001b[0m \u001b[0maxis\u001b[0m\u001b[1;33m=\u001b[0m\u001b[1;36m0\u001b[0m\u001b[1;33m)\u001b[0m\u001b[1;33m\u001b[0m\u001b[1;33m\u001b[0m\u001b[0m\n\u001b[0;32m     48\u001b[0m \u001b[1;33m\u001b[0m\u001b[0m\n",
      "\u001b[1;32mE:\\WT\\project_on_github\\WT\\Wavelet_energy_cal.ipynb\u001b[0m in \u001b[0;36mwavelet_energy_cal\u001b[1;34m(data, scale_in)\u001b[0m\n",
      "\u001b[1;32mD:\\Anaconda\\lib\\site-packages\\pywt\\_cwt.py\u001b[0m in \u001b[0;36mcwt\u001b[1;34m(data, scales, wavelet, sampling_period, method, axis)\u001b[0m\n\u001b[0;32m    156\u001b[0m         \u001b[1;32mif\u001b[0m \u001b[0mmethod\u001b[0m \u001b[1;33m==\u001b[0m \u001b[1;34m'conv'\u001b[0m\u001b[1;33m:\u001b[0m\u001b[1;33m\u001b[0m\u001b[1;33m\u001b[0m\u001b[0m\n\u001b[0;32m    157\u001b[0m             \u001b[1;32mif\u001b[0m \u001b[0mdata\u001b[0m\u001b[1;33m.\u001b[0m\u001b[0mndim\u001b[0m \u001b[1;33m==\u001b[0m \u001b[1;36m1\u001b[0m\u001b[1;33m:\u001b[0m\u001b[1;33m\u001b[0m\u001b[1;33m\u001b[0m\u001b[0m\n\u001b[1;32m--> 158\u001b[1;33m                 \u001b[0mconv\u001b[0m \u001b[1;33m=\u001b[0m \u001b[0mnp\u001b[0m\u001b[1;33m.\u001b[0m\u001b[0mconvolve\u001b[0m\u001b[1;33m(\u001b[0m\u001b[0mdata\u001b[0m\u001b[1;33m,\u001b[0m \u001b[0mint_psi_scale\u001b[0m\u001b[1;33m)\u001b[0m\u001b[1;33m\u001b[0m\u001b[1;33m\u001b[0m\u001b[0m\n\u001b[0m\u001b[0;32m    159\u001b[0m             \u001b[1;32melse\u001b[0m\u001b[1;33m:\u001b[0m\u001b[1;33m\u001b[0m\u001b[1;33m\u001b[0m\u001b[0m\n\u001b[0;32m    160\u001b[0m                 \u001b[1;31m# batch convolution via loop\u001b[0m\u001b[1;33m\u001b[0m\u001b[1;33m\u001b[0m\u001b[1;33m\u001b[0m\u001b[0m\n",
      "\u001b[1;32m<__array_function__ internals>\u001b[0m in \u001b[0;36mconvolve\u001b[1;34m(*args, **kwargs)\u001b[0m\n",
      "\u001b[1;32mD:\\Anaconda\\lib\\site-packages\\numpy\\core\\numeric.py\u001b[0m in \u001b[0;36mconvolve\u001b[1;34m(a, v, mode)\u001b[0m\n\u001b[0;32m    848\u001b[0m         \u001b[1;32mraise\u001b[0m \u001b[0mValueError\u001b[0m\u001b[1;33m(\u001b[0m\u001b[1;34m'v cannot be empty'\u001b[0m\u001b[1;33m)\u001b[0m\u001b[1;33m\u001b[0m\u001b[1;33m\u001b[0m\u001b[0m\n\u001b[0;32m    849\u001b[0m     \u001b[0mmode\u001b[0m \u001b[1;33m=\u001b[0m \u001b[0m_mode_from_name\u001b[0m\u001b[1;33m(\u001b[0m\u001b[0mmode\u001b[0m\u001b[1;33m)\u001b[0m\u001b[1;33m\u001b[0m\u001b[1;33m\u001b[0m\u001b[0m\n\u001b[1;32m--> 850\u001b[1;33m     \u001b[1;32mreturn\u001b[0m \u001b[0mmultiarray\u001b[0m\u001b[1;33m.\u001b[0m\u001b[0mcorrelate\u001b[0m\u001b[1;33m(\u001b[0m\u001b[0ma\u001b[0m\u001b[1;33m,\u001b[0m \u001b[0mv\u001b[0m\u001b[1;33m[\u001b[0m\u001b[1;33m:\u001b[0m\u001b[1;33m:\u001b[0m\u001b[1;33m-\u001b[0m\u001b[1;36m1\u001b[0m\u001b[1;33m]\u001b[0m\u001b[1;33m,\u001b[0m \u001b[0mmode\u001b[0m\u001b[1;33m)\u001b[0m\u001b[1;33m\u001b[0m\u001b[1;33m\u001b[0m\u001b[0m\n\u001b[0m\u001b[0;32m    851\u001b[0m \u001b[1;33m\u001b[0m\u001b[0m\n\u001b[0;32m    852\u001b[0m \u001b[1;33m\u001b[0m\u001b[0m\n",
      "\u001b[1;31mKeyboardInterrupt\u001b[0m: "
     ]
    }
   ],
   "source": [
    "start_time = time.time()\n",
    "\n",
    "all_state_change_point_record = pd.read_csv('./data_save/all_state_change_point_record.csv', header=0)\n",
    "all_synthetic_trj = pd.read_csv('./data_save/all_synthetic_trj.csv', header=0)\n",
    "\n",
    "# here we add noise to each speed record\n",
    "mu = 0\n",
    "# try 0.1, 0.2, 0.4 later\n",
    "sigma = 0\n",
    "\n",
    "all_speed_array = all_synthetic_trj.speed.values\n",
    "\n",
    "for i in range(len(all_speed_array)):\n",
    "    all_speed_array[i] += random.gauss(mu,sigma)\n",
    "    \n",
    "new_all_synthetic_trj = all_synthetic_trj.copy()\n",
    "new_all_synthetic_trj['speed'] = all_speed_array\n",
    "\n",
    "wavelet_detection_scale_sensitivity_analysis(all_state_change_point_record, new_all_synthetic_trj)\n",
    "\n",
    "print (\"seconds\", time.time() - start_time)"
   ]
  },
  {
   "cell_type": "code",
   "execution_count": 8,
   "id": "484b101c",
   "metadata": {},
   "outputs": [],
   "source": [
    "new_all_synthetic_trj.to_csv('./data_save/all_synthetic_trj_010_noise.csv')"
   ]
  },
  {
   "cell_type": "code",
   "execution_count": 9,
   "id": "71a83233",
   "metadata": {},
   "outputs": [],
   "source": [
    "def scale_sensitivity_analysis_results_plot():\n",
    "    scale_sensitivity_analysis_results = pd.read_csv('data_save/scale_sensitivity_analysis_results.csv', header=0)\n",
    "    scale_list = list(range(2, 128))\n",
    "    mae_list = list(range(128 - 2))\n",
    "    for i in range(len(scale_list)):\n",
    "        current_mae_name = 'scale_' + str(scale_list[i]) + '_mae'\n",
    "        mae_list[i] = scale_sensitivity_analysis_results.loc[:, current_mae_name].mean()\n",
    "    plt.figure()\n",
    "    plt.plot(scale_list, mae_list, 'b-^', markersize=1, linewidth=1)\n",
    "    plt.title('Wavelet MaxModule Scale Sensitivity Analysis')\n",
    "    plt.ylabel('Mean Absolute Error (s)')\n",
    "    plt.xlabel('Scale')\n",
    "    plt.xlim(xmin=0)\n",
    "    plt.ylim(ymin=0)\n",
    "    # plt.grid(linestyle='dotted')\n",
    "    fig1_save_title = 'figure_save/' + 'Wavelet Scale Sensitivity Analysis.png'\n",
    "    plt.savefig(fig1_save_title, dpi=600)\n",
    "    plt.close('all')"
   ]
  },
  {
   "cell_type": "code",
   "execution_count": 10,
   "id": "000423df",
   "metadata": {},
   "outputs": [],
   "source": [
    "scale_sensitivity_analysis_results_plot()"
   ]
  },
  {
   "cell_type": "code",
   "execution_count": null,
   "id": "38687bda",
   "metadata": {},
   "outputs": [],
   "source": []
  }
 ],
 "metadata": {
  "kernelspec": {
   "display_name": "Python 3",
   "language": "python",
   "name": "python3"
  },
  "language_info": {
   "codemirror_mode": {
    "name": "ipython",
    "version": 3
   },
   "file_extension": ".py",
   "mimetype": "text/x-python",
   "name": "python",
   "nbconvert_exporter": "python",
   "pygments_lexer": "ipython3",
   "version": "3.8.8"
  }
 },
 "nbformat": 4,
 "nbformat_minor": 5
}
