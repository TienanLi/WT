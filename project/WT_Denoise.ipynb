{
 "cells": [
  {
   "cell_type": "code",
   "execution_count": 1,
   "id": "6fbe8ccf",
   "metadata": {},
   "outputs": [],
   "source": [
    "import os\n",
    "import math\n",
    "import numpy as np\n",
    "import pandas as pd\n",
    "import pywt"
   ]
  },
  {
   "cell_type": "code",
   "execution_count": 2,
   "id": "81adccb9",
   "metadata": {},
   "outputs": [],
   "source": [
    "def wavefilter(data):\n",
    "    \"\"\"\n",
    "    This function requires that the NumPy and PyWavelet packages are installed. They are freely available at:\n",
    "    Filter a multi-channel signal using wavelet filtering.\n",
    "    data     - n x m array, n=number of channels in the signal,\n",
    "                m=number of samples in the signal\n",
    "    maxlevel - the level of decomposition to perform on the data. This integer\n",
    "                implicitly defines the cutoff frequency of the filter.\n",
    "                Specifically, cutoff frequency = samplingrate/(2^(maxlevel+1))\n",
    "    \"\"\"\n",
    "    # We will use the Daubechies(6) wavelet\n",
    "    daubechies_num = 6\n",
    "    wname = \"db\" + str(daubechies_num)\n",
    "    \n",
    "    datalength = data.shape[0]\n",
    "    #datalength = len(data)\n",
    "    max_level = pywt.dwt_max_level(datalength, wname)\n",
    "    #print('maximun level is: %s' % max_level)\n",
    "    # Initialize the container for the filtered data\n",
    "    # Decompose the signal\n",
    "    temp_c = pywt.wavedec(data, wname, mode='smooth', level=max_level)\n",
    "    temp_c_array = np.array(temp_c, dtype=object)\n",
    "    # coeff[0] is approximation coeffs, coeffs[1] is nth level detail coeff, coeff[-1] is first level detail coeffs\n",
    "    coeffs = pywt.wavedec(data, wname, mode='smooth', level=max_level)\n",
    "    # hard thresholding based on universal threshold\n",
    "    # detail_coeffs_n = coeffs[-1]  # note that the finest scale coefficients should be used here\n",
    "    # temp_mad = stats.median_absolute_deviation(detail_coeffs_n)\n",
    "    # universal_threshold = stats.median_absolute_deviation(detail_coeffs_n) * math.sqrt(2*math.log(datalength))\n",
    "    # for j in range(max_level):\n",
    "    #     before_threshold = coeffs[-j-1]\n",
    "    #     # after_threshold = pywt.threshold(before_threshold, universal_threshold, mode='hard')\n",
    "    #     after_threshold = pywt.threshold(before_threshold, universal_threshold, mode='soft')\n",
    "    #     coeffs[-j-1] = after_threshold\n",
    "    # directly set all details to 0, this is probably the best result we can get here\n",
    "    for j in range(max_level):\n",
    "        coeffs[-j - 1] = np.zeros_like(coeffs[-j - 1])\n",
    "    # Reconstruct the signal and save it\n",
    "    filter_data = pywt.waverec(coeffs, wname, mode='smooth')\n",
    "    fdata = filter_data[0:datalength]\n",
    "    return fdata  # Otherwise, give back the 2D array"
   ]
  },
  {
   "cell_type": "code",
   "execution_count": null,
   "id": "04f53f56",
   "metadata": {},
   "outputs": [],
   "source": []
  }
 ],
 "metadata": {
  "kernelspec": {
   "display_name": "Python 3",
   "language": "python",
   "name": "python3"
  },
  "language_info": {
   "codemirror_mode": {
    "name": "ipython",
    "version": 3
   },
   "file_extension": ".py",
   "mimetype": "text/x-python",
   "name": "python",
   "nbconvert_exporter": "python",
   "pygments_lexer": "ipython3",
   "version": "3.8.8"
  }
 },
 "nbformat": 4,
 "nbformat_minor": 5
}
