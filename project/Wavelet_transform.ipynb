{
 "cells": [
  {
   "cell_type": "code",
   "execution_count": 3,
   "id": "83c328b5",
   "metadata": {},
   "outputs": [],
   "source": [
    "import os\n",
    "import math\n",
    "import numpy as np\n",
    "import pandas as pd\n",
    "import pywt\n",
    "import matplotlib.pyplot as plt\n",
    "from scipy.signal import argrelextrema, find_peaks\n",
    "from matplotlib.ticker import (MultipleLocator, FormatStrFormatter, AutoMinorLocator)\n",
    "import cv2\n",
    "import glob\n",
    "import scipy.stats as stats"
   ]
  },
  {
   "cell_type": "code",
   "execution_count": 4,
   "id": "c7c3dfce",
   "metadata": {},
   "outputs": [
    {
     "name": "stdout",
     "output_type": "stream",
     "text": [
      "importing Jupyter notebook from Data_extension.ipynb\n"
     ]
    }
   ],
   "source": [
    "%run Ipynb_importer.py\n",
    "import Data_extension"
   ]
  },
  {
   "cell_type": "code",
   "execution_count": 5,
   "id": "77efdac6",
   "metadata": {},
   "outputs": [],
   "source": [
    "def wavelet_transform(data, scale_in):\n",
    "    extend_length = 1000\n",
    "    data = Data_extension.Data_extension(data, extend_length)\n",
    "    \n",
    "    wname = \"mexh\"\n",
    "    coeffs, freqs = pywt.cwt(data, scales=np.arange(1, scale_in), wavelet=wname)\n",
    "    \n",
    "    return coeffs, freqs, extend_length, scale_in"
   ]
  },
  {
   "cell_type": "code",
   "execution_count": null,
   "id": "92244ff0",
   "metadata": {},
   "outputs": [],
   "source": []
  }
 ],
 "metadata": {
  "kernelspec": {
   "display_name": "Python 3",
   "language": "python",
   "name": "python3"
  },
  "language_info": {
   "codemirror_mode": {
    "name": "ipython",
    "version": 3
   },
   "file_extension": ".py",
   "mimetype": "text/x-python",
   "name": "python",
   "nbconvert_exporter": "python",
   "pygments_lexer": "ipython3",
   "version": "3.8.8"
  }
 },
 "nbformat": 4,
 "nbformat_minor": 5
}
