{
 "cells": [
  {
   "cell_type": "code",
   "execution_count": 1,
   "id": "a3ba2e70",
   "metadata": {},
   "outputs": [],
   "source": [
    "import os\n",
    "import math\n",
    "import numpy as np\n",
    "import pandas as pd\n",
    "import pywt\n",
    "import matplotlib.pyplot as plt\n",
    "from scipy.signal import argrelextrema, find_peaks\n",
    "from matplotlib.ticker import (MultipleLocator, FormatStrFormatter, AutoMinorLocator)\n",
    "import cv2\n",
    "import glob\n",
    "import scipy.stats as stats"
   ]
  },
  {
   "cell_type": "code",
   "execution_count": 3,
   "id": "cadbc079",
   "metadata": {},
   "outputs": [
    {
     "name": "stdout",
     "output_type": "stream",
     "text": [
      "importing Jupyter notebook from Data_extension.ipynb\n"
     ]
    }
   ],
   "source": [
    "%run Ipynb_importer.py\n",
    "import Data_extension"
   ]
  },
  {
   "cell_type": "code",
   "execution_count": 4,
   "id": "7f8cc434",
   "metadata": {},
   "outputs": [],
   "source": [
    "def wavelet_energy_cal(data, scale_in):\n",
    "    # first we need to extend the signal, or the boundary effect will impact the results severely\n",
    "    # the analyzed data is speed, we will keep the acceleration of the first and last point the same while extending the signal\n",
    "    # the extend length will be 100 points on each of the side\n",
    "    \n",
    "    extend_length = 200\n",
    "    data = Data_extension.Data_extension(data, extend_length)\n",
    "    \n",
    "    wname = \"mexh\"\n",
    "    coeffs, freqs = pywt.cwt(data, scales=np.arange(1, scale_in), wavelet=wname)\n",
    "    \n",
    "    # axis = 0 means along the column and axis = 1 means working along the row.\n",
    "    averaged_energy = np.mean(np.square(coeffs), axis=0)\n",
    "    averaged_energy = np.delete(averaged_energy, range(extend_length))\n",
    "    averaged_energy = np.delete(averaged_energy, (np.arange(extend_length) + 1) * (-1))\n",
    "    \n",
    "    return averaged_energy"
   ]
  },
  {
   "cell_type": "code",
   "execution_count": null,
   "id": "750e3a04",
   "metadata": {},
   "outputs": [],
   "source": []
  }
 ],
 "metadata": {
  "kernelspec": {
   "display_name": "Python 3",
   "language": "python",
   "name": "python3"
  },
  "language_info": {
   "codemirror_mode": {
    "name": "ipython",
    "version": 3
   },
   "file_extension": ".py",
   "mimetype": "text/x-python",
   "name": "python",
   "nbconvert_exporter": "python",
   "pygments_lexer": "ipython3",
   "version": "3.8.8"
  }
 },
 "nbformat": 4,
 "nbformat_minor": 5
}
