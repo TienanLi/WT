{
 "cells": [
  {
   "cell_type": "code",
   "execution_count": 1,
   "id": "50590a38",
   "metadata": {},
   "outputs": [],
   "source": [
    "import os\n",
    "import math\n",
    "import numpy as np\n",
    "import pandas as pd\n",
    "import pywt\n",
    "import matplotlib.pyplot as plt\n",
    "from scipy.signal import argrelextrema, find_peaks\n",
    "from matplotlib.ticker import (MultipleLocator, FormatStrFormatter, AutoMinorLocator)\n",
    "import cv2\n",
    "import glob\n",
    "import scipy.stats as stats"
   ]
  },
  {
   "cell_type": "code",
   "execution_count": 2,
   "id": "8661534a",
   "metadata": {},
   "outputs": [],
   "source": [
    "def Data_extension(data, extend_length):\n",
    "\n",
    "    starting_acc = (data[1] - data[0]) / 0.1\n",
    "    end_acc = (data[-1] - data[-2]) / 0.1\n",
    "    starting_extension = [None] * extend_length\n",
    "    starting_extension[-1] = data[0] - starting_acc * 0.1\n",
    "    end_extension = [None] * extend_length\n",
    "    end_extension[0] = data[-1] + end_acc * 0.1\n",
    "    for i in range(1, extend_length):\n",
    "        starting_extension[-i - 1] = starting_extension[-i] - starting_acc * 0.1\n",
    "    for j in range(extend_length - 1):\n",
    "        end_extension[j + 1] = end_extension[j] + end_acc * 0.1\n",
    "    data = starting_extension + data\n",
    "    data = data + end_extension\n",
    "    \n",
    "    return data"
   ]
  },
  {
   "cell_type": "code",
   "execution_count": null,
   "id": "0d020ec2",
   "metadata": {},
   "outputs": [],
   "source": []
  }
 ],
 "metadata": {
  "kernelspec": {
   "display_name": "Python 3",
   "language": "python",
   "name": "python3"
  },
  "language_info": {
   "codemirror_mode": {
    "name": "ipython",
    "version": 3
   },
   "file_extension": ".py",
   "mimetype": "text/x-python",
   "name": "python",
   "nbconvert_exporter": "python",
   "pygments_lexer": "ipython3",
   "version": "3.8.8"
  }
 },
 "nbformat": 4,
 "nbformat_minor": 5
}
