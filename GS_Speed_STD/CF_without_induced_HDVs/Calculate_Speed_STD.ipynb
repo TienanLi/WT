{
 "cells": [
  {
   "cell_type": "markdown",
   "id": "37865ef6",
   "metadata": {},
   "source": [
    "# Work on dataset car_follow_data_'+str(index)+'.csv'"
   ]
  },
  {
   "cell_type": "code",
   "execution_count": 1,
   "id": "9cbfffbf",
   "metadata": {},
   "outputs": [],
   "source": [
    "import pandas as pd\n",
    "import numpy as np\n",
    "import matplotlib.pyplot as plt\n",
    "\n",
    "import os\n",
    "import sys\n",
    "\n",
    "from statistics import mean, stdev\n",
    "from matplotlib.backends.backend_pdf import PdfPages\n",
    "\n",
    "import time"
   ]
  },
  {
   "cell_type": "code",
   "execution_count": 3,
   "id": "6fd52ade",
   "metadata": {},
   "outputs": [],
   "source": [
    "def LoadData(index):\n",
    "    \n",
    "    path = '../../data_set/car_follow_data/car_follow_data_'+str(index)+'.csv'\n",
    "    \n",
    "    data = pd.read_csv(path)\n",
    "    \n",
    "    return data"
   ]
  },
  {
   "cell_type": "code",
   "execution_count": 4,
   "id": "9491feac",
   "metadata": {},
   "outputs": [],
   "source": [
    "def LoadGSRecord(index, issdc):\n",
    "    \n",
    "    path = './' + str(issdc) + '_' + str(index) + '.csv'\n",
    "    \n",
    "    record = pd.read_csv(path)\n",
    "    \n",
    "    return record"
   ]
  },
  {
   "cell_type": "code",
   "execution_count": 20,
   "id": "c7ba9ffd",
   "metadata": {},
   "outputs": [],
   "source": [
    "def main(file_index, issdc):\n",
    "    \n",
    "    dataframe = LoadData(file_index)\n",
    "    GS_record = LoadGSRecord(file_index, issdc)\n",
    "    \n",
    "    speed_std_array = []\n",
    "    \n",
    "    for row in GS_record.itertuples():\n",
    "        \n",
    "        start = int(row.stable_start_index)\n",
    "        end = int(row.stable_end_index)\n",
    "        data_segment = dataframe.iloc[start : end+1]\n",
    "        \n",
    "        speed_std = stdev(dataframe.iloc[start: end+1].speed)\n",
    "        speed_std_array.append(speed_std)\n",
    "    \n",
    "    new_GS_record = GS_record.copy()\n",
    "    new_GS_record['speed_std'] = speed_std_array\n",
    "    \n",
    "    #title_string = str(file_index) + ' ' + str(position_num)\n",
    "    #plt.title(title_string)\n",
    "    #plt.hist(speed_std_array)\n",
    "    #plt.grid(linestyle=\"--\", alpha=0.5)\n",
    "    #plt.xlabel('Speed STD')\n",
    "    #plt.ylabel('count')\n",
    "    #plt.show()\n",
    "    \n",
    "    return new_GS_record"
   ]
  },
  {
   "cell_type": "code",
   "execution_count": 21,
   "id": "d8abd51e",
   "metadata": {},
   "outputs": [
    {
     "name": "stdout",
     "output_type": "stream",
     "text": [
      "running time: 29.283010244369507\n"
     ]
    }
   ],
   "source": [
    "start_time = time.time()\n",
    "\n",
    "for i in [1, 0]:\n",
    "    for j in range(1, 11):\n",
    "        if j == 1:\n",
    "            new_GS_record = main(j*1000, i)\n",
    "        else:\n",
    "            new_GS_record = new_GS_record.append(main(j*1000, i))\n",
    "\n",
    "    new_GS_record.to_csv('./new_GS_record_issdc_' +str(i)+'.csv', index=False)\n",
    "        \n",
    "print('running time:', time.time() - start_time)"
   ]
  },
  {
   "cell_type": "code",
   "execution_count": 27,
   "id": "fae5d66d",
   "metadata": {},
   "outputs": [],
   "source": [
    "one = pd.read_csv('./new_GS_record_issdc_1.csv')\n",
    "zero = pd.read_csv('./new_GS_record_issdc_0.csv')\n",
    "total = one.append(zero)\n",
    "\n",
    "total.to_csv('./new_GS_record_total.csv')"
   ]
  },
  {
   "cell_type": "code",
   "execution_count": 34,
   "id": "3a045185",
   "metadata": {},
   "outputs": [],
   "source": [
    "def Speed_STD_plot(data, issdc):\n",
    "    \n",
    "    if issdc == 'total':\n",
    "        path =  './GS_Speed_STD_'+issdc+'.jpg'\n",
    "        \n",
    "        title_string = issdc\n",
    "        plt.title(title_string)\n",
    "        plt.hist(data.speed_std)\n",
    "        plt.grid(linestyle=\"--\", alpha=0.5)\n",
    "        plt.xlabel('Speed STD')\n",
    "        plt.ylabel('count')\n",
    "\n",
    "        plt.savefig(path, dpi=600)\n",
    "        plt.close('all')\n",
    "        \n",
    "    else:\n",
    "        path =  './GS_Speed_STD_issdc_'+str(issdc)+'.jpg'\n",
    "\n",
    "        title_string = 'issdc: ' + str(issdc)\n",
    "        plt.title(title_string)\n",
    "        plt.hist(data.speed_std)\n",
    "        plt.grid(linestyle=\"--\", alpha=0.5)\n",
    "        plt.xlabel('Speed STD')\n",
    "        plt.ylabel('count')\n",
    "\n",
    "        plt.savefig(path, dpi=600)\n",
    "        plt.close('all')"
   ]
  },
  {
   "cell_type": "code",
   "execution_count": 35,
   "id": "16d5ebea",
   "metadata": {},
   "outputs": [],
   "source": [
    "Speed_STD_plot(one, 1)\n",
    "Speed_STD_plot(zero, 0)\n",
    "Speed_STD_plot(total, 'total')"
   ]
  },
  {
   "cell_type": "code",
   "execution_count": 33,
   "id": "6bfa660d",
   "metadata": {},
   "outputs": [],
   "source": [
    "detail = one.speed_std.describe()\n",
    "detail.to_csv('./issdc_1_SpeedSTD_Distribution.csv')\n",
    "\n",
    "detail = zero.speed_std.describe()\n",
    "detail.to_csv('./issdc_0_SpeedSTD_Distribution.csv')\n",
    "\n",
    "detail = total.speed_std.describe()\n",
    "detail.to_csv('./issdc_total_SpeedSTD_Distribution.csv')"
   ]
  },
  {
   "cell_type": "code",
   "execution_count": null,
   "id": "f1785715",
   "metadata": {},
   "outputs": [],
   "source": []
  }
 ],
 "metadata": {
  "kernelspec": {
   "display_name": "Python 3",
   "language": "python",
   "name": "python3"
  },
  "language_info": {
   "codemirror_mode": {
    "name": "ipython",
    "version": 3
   },
   "file_extension": ".py",
   "mimetype": "text/x-python",
   "name": "python",
   "nbconvert_exporter": "python",
   "pygments_lexer": "ipython3",
   "version": "3.8.8"
  }
 },
 "nbformat": 4,
 "nbformat_minor": 5
}
