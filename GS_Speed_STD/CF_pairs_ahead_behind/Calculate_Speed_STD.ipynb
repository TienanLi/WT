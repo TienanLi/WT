{
 "cells": [
  {
   "cell_type": "markdown",
   "id": "e430a690",
   "metadata": {},
   "source": [
    "# Work on dataset CF_pairs_ahead_behind_file'+str(index)+'.csv'"
   ]
  },
  {
   "cell_type": "code",
   "execution_count": 1,
   "id": "e869846c",
   "metadata": {},
   "outputs": [],
   "source": [
    "import pandas as pd\n",
    "import numpy as np\n",
    "import matplotlib.pyplot as plt\n",
    "\n",
    "import os\n",
    "import sys\n",
    "\n",
    "from statistics import mean, stdev\n",
    "from matplotlib.backends.backend_pdf import PdfPages\n",
    "\n",
    "import time"
   ]
  },
  {
   "cell_type": "code",
   "execution_count": 2,
   "id": "2081ee4b",
   "metadata": {},
   "outputs": [],
   "source": [
    "def LoadData(index):\n",
    "    \n",
    "    path = '../../data_set/CF_pairs_ahead_behind/CF_pairs_ahead_behind_file'+str(index)+'.csv'\n",
    "    \n",
    "    data = pd.read_csv(path)\n",
    "    \n",
    "    return data"
   ]
  },
  {
   "cell_type": "code",
   "execution_count": 3,
   "id": "f1dd76c9",
   "metadata": {},
   "outputs": [],
   "source": [
    "def LoadGSRecord(index, position_num):\n",
    "    \n",
    "    path = './Position'+str(position_num)+'/Position_'+str(position_num)+'_'+str(index)+'.csv'\n",
    "    \n",
    "    record = pd.read_csv(path)\n",
    "    \n",
    "    return record"
   ]
  },
  {
   "cell_type": "code",
   "execution_count": 53,
   "id": "af33fdf8",
   "metadata": {},
   "outputs": [],
   "source": [
    "def main(file_index, position_num):\n",
    "    \n",
    "    dataframe = LoadData(file_index)\n",
    "    GS_record = LoadGSRecord(file_index, position_num)\n",
    "    \n",
    "    speed_std_array = []\n",
    "    \n",
    "    for row in GS_record.itertuples():\n",
    "        \n",
    "        start = int(row.stable_start_index)\n",
    "        end = int(row.stable_end_index)\n",
    "        data_segment = dataframe.iloc[start : end+1]\n",
    "        \n",
    "        speed_std = stdev(dataframe.iloc[start: end+1].subject_speed)\n",
    "        speed_std_array.append(speed_std)\n",
    "    \n",
    "    new_GS_record = GS_record.copy()\n",
    "    new_GS_record['speed_std'] = speed_std_array\n",
    "    \n",
    "    #title_string = str(file_index) + ' ' + str(position_num)\n",
    "    #plt.title(title_string)\n",
    "    #plt.hist(speed_std_array)\n",
    "    #plt.grid(linestyle=\"--\", alpha=0.5)\n",
    "    #plt.xlabel('Speed STD')\n",
    "    #plt.ylabel('count')\n",
    "    #plt.show()\n",
    "    \n",
    "    return new_GS_record"
   ]
  },
  {
   "cell_type": "code",
   "execution_count": 71,
   "id": "00cde1d3",
   "metadata": {},
   "outputs": [
    {
     "name": "stdout",
     "output_type": "stream",
     "text": [
      "running time: 16.225892543792725\n"
     ]
    }
   ],
   "source": [
    "start_time = time.time()\n",
    "\n",
    "for i in [100, -100, 0]:\n",
    "    for j in range(10):\n",
    "        if j == 0:\n",
    "            new_GS_record = main(j, i)\n",
    "        else:\n",
    "            new_GS_record = new_GS_record.append(main(j, i))\n",
    "\n",
    "    new_GS_record.to_csv('./new_GS_record_Position_' +str(i)+'.csv', index=False)\n",
    "        \n",
    "print('running time:', time.time() - start_time)"
   ]
  },
  {
   "cell_type": "code",
   "execution_count": 81,
   "id": "1f4b6bf4",
   "metadata": {},
   "outputs": [],
   "source": [
    "one = pd.read_csv('./new_GS_record_Position_100.csv')\n",
    "two = pd.read_csv('./new_GS_record_Position_-100.csv')\n",
    "three = pd.read_csv('./new_GS_record_Position_0.csv')\n",
    "\n",
    "result = one.append(two).append(three)\n",
    "\n",
    "result.to_csv('./new_GS_record_aggregate.csv', index=False)"
   ]
  },
  {
   "cell_type": "code",
   "execution_count": 85,
   "id": "3e9cca16",
   "metadata": {},
   "outputs": [],
   "source": [
    "def Speed_STD_plot(data, position_num):\n",
    "    \n",
    "    if position_num == 'total':\n",
    "        path =  './GS_Speed_STD_'+position_num+'.jpg'\n",
    "        \n",
    "        title_string = position_num\n",
    "        plt.title(title_string)\n",
    "        plt.hist(data.speed_std)\n",
    "        plt.grid(linestyle=\"--\", alpha=0.5)\n",
    "        plt.xlabel('Speed STD')\n",
    "        plt.ylabel('count')\n",
    "\n",
    "        plt.savefig(path, dpi=600)\n",
    "        plt.close('all')\n",
    "        \n",
    "    else:\n",
    "        path =  './GS_Speed_STD_Position_'+str(position_num)+'.jpg'\n",
    "\n",
    "        title_string = 'Position Num: ' + str(position_num)\n",
    "        plt.title(title_string)\n",
    "        plt.hist(data.speed_std)\n",
    "        plt.grid(linestyle=\"--\", alpha=0.5)\n",
    "        plt.xlabel('Speed STD')\n",
    "        plt.ylabel('count')\n",
    "\n",
    "        plt.savefig(path, dpi=600)\n",
    "        plt.close('all')"
   ]
  },
  {
   "cell_type": "code",
   "execution_count": 88,
   "id": "6b8dc79f",
   "metadata": {},
   "outputs": [],
   "source": [
    "Speed_STD_plot(one, 100)\n",
    "Speed_STD_plot(two, -100)\n",
    "Speed_STD_plot(three, 0)\n",
    "Speed_STD_plot(result, 'total')"
   ]
  },
  {
   "cell_type": "code",
   "execution_count": 95,
   "id": "904ccbf2",
   "metadata": {},
   "outputs": [],
   "source": [
    "detail = one.speed_std.describe()\n",
    "detail.to_csv('./Position100_SpeedSTD_Distribution.csv')\n",
    "\n",
    "detail = two.speed_std.describe()\n",
    "detail.to_csv('./Position-100_SpeedSTD_Distribution.csv')\n",
    "\n",
    "detail = three.speed_std.describe()\n",
    "detail.to_csv('./Position0_SpeedSTD_Distribution.csv')\n",
    "\n",
    "detail = result.speed_std.describe()\n",
    "detail.to_csv('./PositionAll_SpeedSTD_Distribution.csv')"
   ]
  },
  {
   "cell_type": "code",
   "execution_count": null,
   "id": "a3959937",
   "metadata": {},
   "outputs": [],
   "source": []
  }
 ],
 "metadata": {
  "kernelspec": {
   "display_name": "Python 3",
   "language": "python",
   "name": "python3"
  },
  "language_info": {
   "codemirror_mode": {
    "name": "ipython",
    "version": 3
   },
   "file_extension": ".py",
   "mimetype": "text/x-python",
   "name": "python",
   "nbconvert_exporter": "python",
   "pygments_lexer": "ipython3",
   "version": "3.8.8"
  }
 },
 "nbformat": 4,
 "nbformat_minor": 5
}
